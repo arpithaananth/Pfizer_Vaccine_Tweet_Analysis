{
 "cells": [
  {
   "cell_type": "markdown",
   "metadata": {
    "papermill": {
     "duration": 0.011769,
     "end_time": "2021-02-05T13:20:01.929815",
     "exception": false,
     "start_time": "2021-02-05T13:20:01.918046",
     "status": "completed"
    },
    "tags": []
   },
   "source": [
    "## Importing the Required Libraries"
   ]
  },
  {
   "cell_type": "code",
   "execution_count": 2,
   "metadata": {
    "execution": {
     "iopub.execute_input": "2021-02-05T13:20:01.960473Z",
     "iopub.status.busy": "2021-02-05T13:20:01.959828Z",
     "iopub.status.idle": "2021-02-05T13:20:04.166730Z",
     "shell.execute_reply": "2021-02-05T13:20:04.167394Z"
    },
    "papermill": {
     "duration": 2.226769,
     "end_time": "2021-02-05T13:20:04.167560",
     "exception": false,
     "start_time": "2021-02-05T13:20:01.940791",
     "status": "completed"
    },
    "tags": []
   },
   "outputs": [],
   "source": [
    "import pandas as pd\n",
    "import numpy as np\n",
    "import re\n",
    "import sys\n",
    "import matplotlib.pyplot as plt\n",
    "import seaborn as sns\n",
    "import nltk\n",
    "import warnings\n",
    "warnings.filterwarnings(\"ignore\")\n",
    "from nltk.tokenize import TweetTokenizer\n",
    "from wordcloud import WordCloud\n",
    "from string import punctuation\n",
    "from nltk.corpus import stopwords\n",
    "from nltk.probability import FreqDist\n",
    "from nltk.tokenize import word_tokenize\n",
    "from nltk.stem import WordNetLemmatizer\n",
    "from nltk.sentiment.vader import SentimentIntensityAnalyzer\n",
    "from textblob import TextBlob"
   ]
  },
  {
   "cell_type": "code",
   "execution_count": 3,
   "metadata": {
    "execution": {
     "iopub.execute_input": "2021-02-05T13:20:04.193412Z",
     "iopub.status.busy": "2021-02-05T13:20:04.192753Z",
     "iopub.status.idle": "2021-02-05T13:20:04.323375Z",
     "shell.execute_reply": "2021-02-05T13:20:04.324079Z"
    },
    "papermill": {
     "duration": 0.145598,
     "end_time": "2021-02-05T13:20:04.324249",
     "exception": false,
     "start_time": "2021-02-05T13:20:04.178651",
     "status": "completed"
    },
    "tags": []
   },
   "outputs": [],
   "source": [
    "tweets = pd.read_csv('/kaggle/input/pfizer-vaccine-tweets/vaccination_tweets.csv')"
   ]
  },
  {
   "cell_type": "markdown",
   "metadata": {
    "papermill": {
     "duration": 0.010698,
     "end_time": "2021-02-05T13:20:04.346161",
     "exception": false,
     "start_time": "2021-02-05T13:20:04.335463",
     "status": "completed"
    },
    "tags": []
   },
   "source": [
    "## Cleaning the Tweets"
   ]
  },
  {
   "cell_type": "code",
   "execution_count": 4,
   "metadata": {
    "execution": {
     "iopub.execute_input": "2021-02-05T13:20:04.370829Z",
     "iopub.status.busy": "2021-02-05T13:20:04.370243Z",
     "iopub.status.idle": "2021-02-05T13:20:04.388428Z",
     "shell.execute_reply": "2021-02-05T13:20:04.389033Z"
    },
    "papermill": {
     "duration": 0.032331,
     "end_time": "2021-02-05T13:20:04.389179",
     "exception": false,
     "start_time": "2021-02-05T13:20:04.356848",
     "status": "completed"
    },
    "tags": []
   },
   "outputs": [],
   "source": [
    "stop_nltk= stopwords.words(\"english\")\n",
    "stop_updated= stop_nltk+[\"https\",'t.co','...']\n",
    "lemm= WordNetLemmatizer()\n",
    "tweet_tok=  TweetTokenizer()\n",
    "\n",
    "def clean_text(text):\n",
    "    tokens= tweet_tok.tokenize(text.lower())\n",
    "    tokens1 = [re.sub('^https://t.co/[\\w]+','',tok) for tok in tokens]\n",
    "    tokens2 = [re.sub('^@[\\w]+','',tok) for tok in tokens1]\n",
    "    tokens3 = [re.sub('^#[\\w]+','',tok) for tok in tokens2]\n",
    "    tokens4 = [re.sub('[0-9]+','',tok) for tok in tokens3]\n",
    "    lemmed=[lemm.lemmatize(term) for term in tokens4 if term not in  stop_updated and term not in list(punctuation) and len(term)>2]\n",
    "    res=' '.join(lemmed)\n",
    "    return res"
   ]
  },
  {
   "cell_type": "code",
   "execution_count": 5,
   "metadata": {
    "execution": {
     "iopub.execute_input": "2021-02-05T13:20:04.414481Z",
     "iopub.status.busy": "2021-02-05T13:20:04.413911Z",
     "iopub.status.idle": "2021-02-05T13:20:10.010553Z",
     "shell.execute_reply": "2021-02-05T13:20:10.011061Z"
    },
    "papermill": {
     "duration": 5.610931,
     "end_time": "2021-02-05T13:20:10.011243",
     "exception": false,
     "start_time": "2021-02-05T13:20:04.400312",
     "status": "completed"
    },
    "tags": []
   },
   "outputs": [],
   "source": [
    "tweets['Clean_Tweets']= tweets['text'].apply(clean_text)"
   ]
  },
  {
   "cell_type": "markdown",
   "metadata": {
    "papermill": {
     "duration": 0.010943,
     "end_time": "2021-02-05T13:20:10.033562",
     "exception": false,
     "start_time": "2021-02-05T13:20:10.022619",
     "status": "completed"
    },
    "tags": []
   },
   "source": [
    "# Sentiment Analysis through VADER"
   ]
  },
  {
   "cell_type": "code",
   "execution_count": 6,
   "metadata": {
    "execution": {
     "iopub.execute_input": "2021-02-05T13:20:10.059677Z",
     "iopub.status.busy": "2021-02-05T13:20:10.059094Z",
     "iopub.status.idle": "2021-02-05T13:20:11.283349Z",
     "shell.execute_reply": "2021-02-05T13:20:11.283898Z"
    },
    "papermill": {
     "duration": 1.239357,
     "end_time": "2021-02-05T13:20:11.284079",
     "exception": false,
     "start_time": "2021-02-05T13:20:10.044722",
     "status": "completed"
    },
    "tags": []
   },
   "outputs": [],
   "source": [
    "analyser= SentimentIntensityAnalyzer() \n",
    "\n",
    "def get_vader_sentiment(sent):\n",
    "    return analyser.polarity_scores(sent)['compound']\n",
    "\n",
    "tweets['sent_vader']= tweets['Clean_Tweets'].apply(get_vader_sentiment)\n",
    "\n",
    "sent_pred=[]\n",
    "for i in range(len(tweets['sent_vader'])):\n",
    "    if tweets['sent_vader'][i]>=0.05:\n",
    "        sent_pred.append('positive')\n",
    "    elif tweets['sent_vader'][i]<=-0.05:\n",
    "        sent_pred.append('negative')\n",
    "    else:\n",
    "        sent_pred.append('neutral')  \n",
    "\n",
    "tweets['sent_pred']= sent_pred"
   ]
  },
  {
   "cell_type": "markdown",
   "metadata": {
    "papermill": {
     "duration": 0.01171,
     "end_time": "2021-02-05T13:20:11.307347",
     "exception": false,
     "start_time": "2021-02-05T13:20:11.295637",
     "status": "completed"
    },
    "tags": []
   },
   "source": [
    "# Sentiment Analysis through TextBlob"
   ]
  },
  {
   "cell_type": "code",
   "execution_count": 7,
   "metadata": {
    "execution": {
     "iopub.execute_input": "2021-02-05T13:20:11.339678Z",
     "iopub.status.busy": "2021-02-05T13:20:11.338983Z",
     "iopub.status.idle": "2021-02-05T13:20:12.791257Z",
     "shell.execute_reply": "2021-02-05T13:20:12.791798Z"
    },
    "papermill": {
     "duration": 1.473209,
     "end_time": "2021-02-05T13:20:12.791999",
     "exception": false,
     "start_time": "2021-02-05T13:20:11.318790",
     "status": "completed"
    },
    "tags": []
   },
   "outputs": [],
   "source": [
    "def get_textblob_sentiment(sent):\n",
    "    return TextBlob(sent).sentiment.polarity\n",
    "\n",
    "\n",
    "tweets['sent_TextBlob']= tweets['Clean_Tweets'].apply(get_textblob_sentiment)\n",
    "\n",
    "sent_pred=[]\n",
    "for i in range(len(tweets['sent_TextBlob'])):\n",
    "    if tweets['sent_TextBlob'][i]>=0.05:\n",
    "        sent_pred.append('positive')\n",
    "    elif tweets['sent_TextBlob'][i]<=-0.05:\n",
    "        sent_pred.append('negative')\n",
    "    else:\n",
    "        sent_pred.append('neutral')  \n",
    "\n",
    "tweets['sent_predTextBlob']= sent_pred"
   ]
  },
  {
   "cell_type": "markdown",
   "metadata": {
    "papermill": {
     "duration": 0.011318,
     "end_time": "2021-02-05T13:20:12.815248",
     "exception": false,
     "start_time": "2021-02-05T13:20:12.803930",
     "status": "completed"
    },
    "tags": []
   },
   "source": [
    "## Percentage of Tweets classified into each category"
   ]
  },
  {
   "cell_type": "code",
   "execution_count": 8,
   "metadata": {
    "execution": {
     "iopub.execute_input": "2021-02-05T13:20:12.853502Z",
     "iopub.status.busy": "2021-02-05T13:20:12.852842Z",
     "iopub.status.idle": "2021-02-05T13:20:13.185295Z",
     "shell.execute_reply": "2021-02-05T13:20:13.185782Z"
    },
    "papermill": {
     "duration": 0.35901,
     "end_time": "2021-02-05T13:20:13.185997",
     "exception": false,
     "start_time": "2021-02-05T13:20:12.826987",
     "status": "completed"
    },
    "tags": []
   },
   "outputs": [
    {
     "data": {
      "image/png": "[encoded data removed]",
      "text/plain": [
       "<Figure size 1152x504 with 2 Axes>"
      ]
     },
     "metadata": {},
     "output_type": "display_data"
    }
   ],
   "source": [
    "fig, axes = plt.subplots(1, 2, figsize=(16, 7), sharey=True)\n",
    "fig.suptitle('Percentage of Sentiment Distribution of Tweet')\n",
    "\n",
    "# TextBlob\n",
    "perc = pd.DataFrame((tweets['sent_predTextBlob'].value_counts()/len(tweets))*100)\n",
    "perc.reset_index(inplace=True)\n",
    "perc.columns = ['Sentiment','Percentage']\n",
    "axes[0].pie(perc['Percentage'],\n",
    "        labels=perc['Sentiment'],\n",
    "        autopct='%1.1f%%',\n",
    "        colors=['steelblue','yellowgreen','crimson'])\n",
    "axes[0].set_title(\"TextBlob\")\n",
    "\n",
    "# VADER\n",
    "per = pd.DataFrame((tweets['sent_pred'].value_counts()/len(tweets))*100)\n",
    "per.reset_index(inplace=True)\n",
    "per.columns = ['Sentiment','Percentage']\n",
    "axes[1].pie(perc['Percentage'],\n",
    "        labels=per['Sentiment'],\n",
    "        autopct='%1.1f%%',\n",
    "        colors=['steelblue','yellowgreen','crimson'])\n",
    "axes[1].set_title(\"VADER\")\n",
    "fig.show()"
   ]
  },
  {
   "cell_type": "markdown",
   "metadata": {
    "papermill": {
     "duration": 0.012667,
     "end_time": "2021-02-05T13:20:13.212151",
     "exception": false,
     "start_time": "2021-02-05T13:20:13.199484",
     "status": "completed"
    },
    "tags": []
   },
   "source": [
    "## Favourites received based on Sentiment of Tweet"
   ]
  },
  {
   "cell_type": "code",
   "execution_count": 9,
   "metadata": {
    "execution": {
     "iopub.execute_input": "2021-02-05T13:20:13.249898Z",
     "iopub.status.busy": "2021-02-05T13:20:13.247642Z",
     "iopub.status.idle": "2021-02-05T13:20:13.588694Z",
     "shell.execute_reply": "2021-02-05T13:20:13.587790Z"
    },
    "papermill": {
     "duration": 0.363658,
     "end_time": "2021-02-05T13:20:13.588889",
     "exception": false,
     "start_time": "2021-02-05T13:20:13.225231",
     "status": "completed"
    },
    "tags": []
   },
   "outputs": [
    {
     "data": {
      "image/png": "[encoded data removed]",
      "text/plain": [
       "<Figure size 1152x504 with 2 Axes>"
      ]
     },
     "metadata": {
      "needs_background": "light"
     },
     "output_type": "display_data"
    }
   ],
   "source": [
    "fig, axes = plt.subplots(1, 2, figsize=(16, 7), sharey=True)\n",
    "fig.suptitle('Favorites received based on Sentiment of Tweet')\n",
    "\n",
    "# TextBlob\n",
    "a = pd.DataFrame(tweets.groupby(['sent_predTextBlob'])['favorites'].sum())\n",
    "sns.barplot(ax=axes[0], x=a.index, y=a['favorites'], palette= 'YlOrRd')\n",
    "axes[0].set_title(\"TextBlob\")\n",
    "\n",
    "# VADER\n",
    "b = pd.DataFrame(tweets.groupby(['sent_pred'])['favorites'].sum())\n",
    "sns.barplot(ax=axes[1], x=b.index, y=b['favorites'], palette= 'YlOrRd')\n",
    "axes[1].set_title(\"VADER\")\n",
    "fig.show()"
   ]
  },
  {
   "cell_type": "markdown",
   "metadata": {
    "papermill": {
     "duration": 0.020145,
     "end_time": "2021-02-05T13:20:13.630223",
     "exception": false,
     "start_time": "2021-02-05T13:20:13.610078",
     "status": "completed"
    },
    "tags": []
   },
   "source": [
    "## Retweets based on Sentiment of Tweet"
   ]
  },
  {
   "cell_type": "code",
   "execution_count": 10,
   "metadata": {
    "execution": {
     "iopub.execute_input": "2021-02-05T13:20:13.714047Z",
     "iopub.status.busy": "2021-02-05T13:20:13.713052Z",
     "iopub.status.idle": "2021-02-05T13:20:13.931093Z",
     "shell.execute_reply": "2021-02-05T13:20:13.931577Z"
    },
    "papermill": {
     "duration": 0.280398,
     "end_time": "2021-02-05T13:20:13.931757",
     "exception": false,
     "start_time": "2021-02-05T13:20:13.651359",
     "status": "completed"
    },
    "tags": []
   },
   "outputs": [
    {
     "data": {
      "image/png": "[encoded data removed]",
      "text/plain": [
       "<Figure size 1152x504 with 2 Axes>"
      ]
     },
     "metadata": {
      "needs_background": "light"
     },
     "output_type": "display_data"
    }
   ],
   "source": [
    "fig, axes = plt.subplots(1, 2, figsize=(16, 7), sharey=True)\n",
    "fig.suptitle('Retweets received based on Sentiment of Tweet')\n",
    "\n",
    "# TextBlob\n",
    "a = pd.DataFrame(tweets.groupby(['sent_predTextBlob'])['retweets'].sum())\n",
    "sns.barplot(ax=axes[0], x=a.index, y=a['retweets'], palette= 'nipy_spectral')\n",
    "axes[0].set_title(\"TextBlob\")\n",
    "\n",
    "# VADER\n",
    "b = pd.DataFrame(tweets.groupby(['sent_pred'])['retweets'].sum())\n",
    "sns.barplot(ax=axes[1], x=b.index, y=b['retweets'], palette= 'nipy_spectral')\n",
    "axes[1].set_title(\"VADER\")\n",
    "fig.show()"
   ]
  }
 ],
 "metadata": {
  "kernelspec": {
   "display_name": "Python 3",
   "language": "python",
   "name": "python3"
  },
  "language_info": {
   "codemirror_mode": {
    "name": "ipython",
    "version": 3
   },
   "file_extension": ".py",
   "mimetype": "text/x-python",
   "name": "python",
   "nbconvert_exporter": "python",
   "pygments_lexer": "ipython3",
   "version": "3.7.3"
  },
  "papermill": {
   "default_parameters": {},
   "duration": 20.749811,
   "end_time": "2021-02-05T13:20:15.161174",
   "environment_variables": {},
   "exception": null,
   "input_path": "__notebook__.ipynb",
   "output_path": "__notebook__.ipynb",
   "parameters": {},
   "start_time": "2021-02-05T13:19:54.411363",
   "version": "2.2.2"
  }
 },
 "nbformat": 4,
 "nbformat_minor": 4
}

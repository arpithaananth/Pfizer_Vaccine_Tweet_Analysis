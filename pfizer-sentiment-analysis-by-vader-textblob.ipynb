{
 "cells": [
  {
   "cell_type": "code",
   "execution_count": 1,
   "metadata": {
    "_cell_guid": "b1076dfc-b9ad-4769-8c92-a6c4dae69d19",
    "_uuid": "8f2839f25d086af736a60e9eeb907d3b93b6e0e5",
    "execution": {
     "iopub.execute_input": "2021-02-09T06:20:40.295510Z",
     "iopub.status.busy": "2021-02-09T06:20:40.294601Z",
     "iopub.status.idle": "2021-02-09T06:20:40.308827Z",
     "shell.execute_reply": "2021-02-09T06:20:40.309951Z"
    },
    "papermill": {
     "duration": 0.032434,
     "end_time": "2021-02-09T06:20:40.310464",
     "exception": false,
     "start_time": "2021-02-09T06:20:40.278030",
     "status": "completed"
    },
    "tags": []
   },
   "outputs": [
    {
     "name": "stdout",
     "output_type": "stream",
     "text": [
      "/kaggle/input/pfizer-vaccine-tweets/vaccination_tweets.csv\n"
     ]
    }
   ],
   "source": [
    "# This Python 3 environment comes with many helpful analytics libraries installed\n",
    "# It is defined by the kaggle/python Docker image: https://github.com/kaggle/docker-python\n",
    "# For example, here's several helpful packages to load\n",
    "\n",
    "import numpy as np # linear algebra\n",
    "import pandas as pd # data processing, CSV file I/O (e.g. pd.read_csv)\n",
    "\n",
    "# Input data files are available in the read-only \"../input/\" directory\n",
    "# For example, running this (by clicking run or pressing Shift+Enter) will list all files under the input directory\n",
    "\n",
    "import os\n",
    "for dirname, _, filenames in os.walk('/kaggle/input'):\n",
    "    for filename in filenames:\n",
    "        print(os.path.join(dirname, filename))\n",
    "\n",
    "# You can write up to 20GB to the current directory (/kaggle/working/) that gets preserved as output when you create a version using \"Save & Run All\" \n",
    "# You can also write temporary files to /kaggle/temp/, but they won't be saved outside of the current session"
   ]
  },
  {
   "cell_type": "markdown",
   "metadata": {
    "papermill": {
     "duration": 0.012202,
     "end_time": "2021-02-09T06:20:40.336947",
     "exception": false,
     "start_time": "2021-02-09T06:20:40.324745",
     "status": "completed"
    },
    "tags": []
   },
   "source": [
    "## Importing the Required Libraries"
   ]
  },
  {
   "cell_type": "code",
   "execution_count": 2,
   "metadata": {
    "execution": {
     "iopub.execute_input": "2021-02-09T06:20:40.364480Z",
     "iopub.status.busy": "2021-02-09T06:20:40.363795Z",
     "iopub.status.idle": "2021-02-09T06:20:42.581279Z",
     "shell.execute_reply": "2021-02-09T06:20:42.582072Z"
    },
    "papermill": {
     "duration": 2.233495,
     "end_time": "2021-02-09T06:20:42.582381",
     "exception": false,
     "start_time": "2021-02-09T06:20:40.348886",
     "status": "completed"
    },
    "tags": []
   },
   "outputs": [],
   "source": [
    "import pandas as pd\n",
    "import numpy as np\n",
    "import re\n",
    "import sys\n",
    "import matplotlib.pyplot as plt\n",
    "import seaborn as sns\n",
    "import nltk\n",
    "import warnings\n",
    "warnings.filterwarnings(\"ignore\")\n",
    "from nltk.tokenize import TweetTokenizer\n",
    "from wordcloud import WordCloud\n",
    "from string import punctuation\n",
    "from nltk.corpus import stopwords\n",
    "from nltk.probability import FreqDist\n",
    "from nltk.tokenize import word_tokenize\n",
    "from nltk.stem import WordNetLemmatizer\n",
    "from nltk.sentiment.vader import SentimentIntensityAnalyzer\n",
    "from textblob import TextBlob"
   ]
  },
  {
   "cell_type": "code",
   "execution_count": 3,
   "metadata": {
    "execution": {
     "iopub.execute_input": "2021-02-09T06:20:42.616632Z",
     "iopub.status.busy": "2021-02-09T06:20:42.615595Z",
     "iopub.status.idle": "2021-02-09T06:20:42.755669Z",
     "shell.execute_reply": "2021-02-09T06:20:42.756216Z"
    },
    "papermill": {
     "duration": 0.157325,
     "end_time": "2021-02-09T06:20:42.756429",
     "exception": false,
     "start_time": "2021-02-09T06:20:42.599104",
     "status": "completed"
    },
    "tags": []
   },
   "outputs": [],
   "source": [
    "tweets = pd.read_csv('/kaggle/input/pfizer-vaccine-tweets/vaccination_tweets.csv')"
   ]
  },
  {
   "cell_type": "markdown",
   "metadata": {
    "papermill": {
     "duration": 0.013105,
     "end_time": "2021-02-09T06:20:42.781918",
     "exception": false,
     "start_time": "2021-02-09T06:20:42.768813",
     "status": "completed"
    },
    "tags": []
   },
   "source": [
    "## Cleaning the Tweets"
   ]
  },
  {
   "cell_type": "code",
   "execution_count": 4,
   "metadata": {
    "execution": {
     "iopub.execute_input": "2021-02-09T06:20:42.812970Z",
     "iopub.status.busy": "2021-02-09T06:20:42.811874Z",
     "iopub.status.idle": "2021-02-09T06:20:42.827828Z",
     "shell.execute_reply": "2021-02-09T06:20:42.828361Z"
    },
    "papermill": {
     "duration": 0.032405,
     "end_time": "2021-02-09T06:20:42.828565",
     "exception": false,
     "start_time": "2021-02-09T06:20:42.796160",
     "status": "completed"
    },
    "tags": []
   },
   "outputs": [],
   "source": [
    "stop_nltk= stopwords.words(\"english\")\n",
    "stop_updated= stop_nltk+[\"https\",'t.co','...']\n",
    "lemm= WordNetLemmatizer()\n",
    "tweet_tok=  TweetTokenizer()\n",
    "\n",
    "def clean_text(text):\n",
    "    tokens= tweet_tok.tokenize(text.lower())\n",
    "    tokens1 = [re.sub('^https://t.co/[\\w]+','',tok) for tok in tokens]\n",
    "    tokens2 = [re.sub('^@[\\w]+','',tok) for tok in tokens1]\n",
    "    tokens3 = [re.sub('^#[\\w]+','',tok) for tok in tokens2]\n",
    "    tokens4 = [re.sub('[0-9]+','',tok) for tok in tokens3]\n",
    "    lemmed=[lemm.lemmatize(term) for term in tokens4 if term not in  stop_updated and term not in list(punctuation) and len(term)>2]\n",
    "    res=' '.join(lemmed)\n",
    "    return res"
   ]
  },
  {
   "cell_type": "code",
   "execution_count": 5,
   "metadata": {
    "execution": {
     "iopub.execute_input": "2021-02-09T06:20:42.857787Z",
     "iopub.status.busy": "2021-02-09T06:20:42.856626Z",
     "iopub.status.idle": "2021-02-09T06:20:46.878378Z",
     "shell.execute_reply": "2021-02-09T06:20:46.877708Z"
    },
    "papermill": {
     "duration": 4.037936,
     "end_time": "2021-02-09T06:20:46.878537",
     "exception": false,
     "start_time": "2021-02-09T06:20:42.840601",
     "status": "completed"
    },
    "tags": []
   },
   "outputs": [],
   "source": [
    "tweets['Clean_Tweets']= tweets['text'].apply(clean_text)"
   ]
  },
  {
   "cell_type": "markdown",
   "metadata": {
    "papermill": {
     "duration": 0.011928,
     "end_time": "2021-02-09T06:20:46.903498",
     "exception": false,
     "start_time": "2021-02-09T06:20:46.891570",
     "status": "completed"
    },
    "tags": []
   },
   "source": [
    "# Sentiment Analysis through VADER"
   ]
  },
  {
   "cell_type": "code",
   "execution_count": 6,
   "metadata": {
    "execution": {
     "iopub.execute_input": "2021-02-09T06:20:46.933555Z",
     "iopub.status.busy": "2021-02-09T06:20:46.932553Z",
     "iopub.status.idle": "2021-02-09T06:20:47.767303Z",
     "shell.execute_reply": "2021-02-09T06:20:47.767830Z"
    },
    "papermill": {
     "duration": 0.851229,
     "end_time": "2021-02-09T06:20:47.768013",
     "exception": false,
     "start_time": "2021-02-09T06:20:46.916784",
     "status": "completed"
    },
    "tags": []
   },
   "outputs": [],
   "source": [
    "analyser= SentimentIntensityAnalyzer() \n",
    "\n",
    "def get_vader_sentiment(sent):\n",
    "    return analyser.polarity_scores(sent)['compound']\n",
    "\n",
    "tweets['sent_vader']= tweets['Clean_Tweets'].apply(get_vader_sentiment)\n",
    "\n",
    "sent_pred=[]\n",
    "for i in range(len(tweets['sent_vader'])):\n",
    "    if tweets['sent_vader'][i]>=0.05:\n",
    "        sent_pred.append('positive')\n",
    "    elif tweets['sent_vader'][i]<=-0.05:\n",
    "        sent_pred.append('negative')\n",
    "    else:\n",
    "        sent_pred.append('neutral')  \n",
    "\n",
    "tweets['sent_pred']= sent_pred"
   ]
  },
  {
   "cell_type": "markdown",
   "metadata": {
    "papermill": {
     "duration": 0.011594,
     "end_time": "2021-02-09T06:20:47.791465",
     "exception": false,
     "start_time": "2021-02-09T06:20:47.779871",
     "status": "completed"
    },
    "tags": []
   },
   "source": [
    "# Sentiment Analysis through TextBlob"
   ]
  },
  {
   "cell_type": "code",
   "execution_count": 7,
   "metadata": {
    "execution": {
     "iopub.execute_input": "2021-02-09T06:20:47.819372Z",
     "iopub.status.busy": "2021-02-09T06:20:47.818384Z",
     "iopub.status.idle": "2021-02-09T06:20:49.002943Z",
     "shell.execute_reply": "2021-02-09T06:20:49.003497Z"
    },
    "papermill": {
     "duration": 1.200141,
     "end_time": "2021-02-09T06:20:49.003695",
     "exception": false,
     "start_time": "2021-02-09T06:20:47.803554",
     "status": "completed"
    },
    "tags": []
   },
   "outputs": [],
   "source": [
    "def get_textblob_sentiment(sent):\n",
    "    return TextBlob(sent).sentiment.polarity\n",
    "\n",
    "\n",
    "tweets['sent_TextBlob']= tweets['Clean_Tweets'].apply(get_textblob_sentiment)\n",
    "\n",
    "sent_pred=[]\n",
    "for i in range(len(tweets['sent_TextBlob'])):\n",
    "    if tweets['sent_TextBlob'][i]>=0.05:\n",
    "        sent_pred.append('positive')\n",
    "    elif tweets['sent_TextBlob'][i]<=-0.05:\n",
    "        sent_pred.append('negative')\n",
    "    else:\n",
    "        sent_pred.append('neutral')  \n",
    "\n",
    "tweets['sent_predTextBlob']= sent_pred"
   ]
  },
  {
   "cell_type": "markdown",
   "metadata": {
    "papermill": {
     "duration": 0.012602,
     "end_time": "2021-02-09T06:20:49.030938",
     "exception": false,
     "start_time": "2021-02-09T06:20:49.018336",
     "status": "completed"
    },
    "tags": []
   },
   "source": [
    "## Percentage of Tweets classified into each category"
   ]
  },
  {
   "cell_type": "code",
   "execution_count": 8,
   "metadata": {
    "execution": {
     "iopub.execute_input": "2021-02-09T06:20:49.085577Z",
     "iopub.status.busy": "2021-02-09T06:20:49.083774Z",
     "iopub.status.idle": "2021-02-09T06:20:49.356846Z",
     "shell.execute_reply": "2021-02-09T06:20:49.357459Z"
    },
    "papermill": {
     "duration": 0.314456,
     "end_time": "2021-02-09T06:20:49.357707",
     "exception": false,
     "start_time": "2021-02-09T06:20:49.043251",
     "status": "completed"
    },
    "tags": []
   },
   "outputs": [
    {
     "data": {
      "image/png": "[encoded data removed]",
      "text/plain": [
       "<Figure size 1152x504 with 2 Axes>"
      ]
     },
     "metadata": {},
     "output_type": "display_data"
    }
   ],
   "source": [
    "fig, axes = plt.subplots(1, 2, figsize=(16, 7), sharey=True)\n",
    "fig.suptitle('Percentage of Sentiment Distribution of Tweet')\n",
    "\n",
    "# TextBlob\n",
    "perc = pd.DataFrame((tweets['sent_predTextBlob'].value_counts()/len(tweets))*100)\n",
    "perc.reset_index(inplace=True)\n",
    "perc.columns = ['Sentiment','Percentage']\n",
    "axes[0].pie(perc['Percentage'],\n",
    "        labels=perc['Sentiment'],\n",
    "        autopct='%1.1f%%',\n",
    "        colors=['steelblue','yellowgreen','crimson'])\n",
    "axes[0].set_title(\"TextBlob\")\n",
    "\n",
    "# VADER\n",
    "per = pd.DataFrame((tweets['sent_pred'].value_counts()/len(tweets))*100)\n",
    "per.reset_index(inplace=True)\n",
    "per.columns = ['Sentiment','Percentage']\n",
    "axes[1].pie(perc['Percentage'],\n",
    "        labels=per['Sentiment'],\n",
    "        autopct='%1.1f%%',\n",
    "        colors=['steelblue','yellowgreen','crimson'])\n",
    "axes[1].set_title(\"VADER\")\n",
    "fig.show()"
   ]
  },
  {
   "cell_type": "markdown",
   "metadata": {
    "papermill": {
     "duration": 0.014367,
     "end_time": "2021-02-09T06:20:49.387787",
     "exception": false,
     "start_time": "2021-02-09T06:20:49.373420",
     "status": "completed"
    },
    "tags": []
   },
   "source": [
    "## Favourites received based on Sentiment of Tweet"
   ]
  },
  {
   "cell_type": "code",
   "execution_count": 9,
   "metadata": {
    "execution": {
     "iopub.execute_input": "2021-02-09T06:20:49.425841Z",
     "iopub.status.busy": "2021-02-09T06:20:49.424609Z",
     "iopub.status.idle": "2021-02-09T06:20:49.720259Z",
     "shell.execute_reply": "2021-02-09T06:20:49.720797Z"
    },
    "papermill": {
     "duration": 0.317383,
     "end_time": "2021-02-09T06:20:49.721007",
     "exception": false,
     "start_time": "2021-02-09T06:20:49.403624",
     "status": "completed"
    },
    "tags": []
   },
   "outputs": [
    {
     "data": {
      "image/png": "[encoded data removed]",
      "text/plain": [
       "<Figure size 1152x504 with 2 Axes>"
      ]
     },
     "metadata": {
      "needs_background": "light"
     },
     "output_type": "display_data"
    }
   ],
   "source": [
    "fig, axes = plt.subplots(1, 2, figsize=(16, 7), sharey=True)\n",
    "fig.suptitle('Favorites received based on Sentiment of Tweet')\n",
    "\n",
    "# TextBlob\n",
    "a = pd.DataFrame(tweets.groupby(['sent_predTextBlob'])['favorites'].sum())\n",
    "sns.barplot(ax=axes[0], x=a.index, y=a['favorites'], palette= 'YlOrRd')\n",
    "axes[0].set_title(\"TextBlob\")\n",
    "\n",
    "# VADER\n",
    "b = pd.DataFrame(tweets.groupby(['sent_pred'])['favorites'].sum())\n",
    "sns.barplot(ax=axes[1], x=b.index, y=b['favorites'], palette= 'YlOrRd')\n",
    "axes[1].set_title(\"VADER\")\n",
    "fig.show()"
   ]
  },
  {
   "cell_type": "markdown",
   "metadata": {
    "papermill": {
     "duration": 0.0144,
     "end_time": "2021-02-09T06:20:49.750726",
     "exception": false,
     "start_time": "2021-02-09T06:20:49.736326",
     "status": "completed"
    },
    "tags": []
   },
   "source": [
    "## Retweets based on Sentiment of Tweet"
   ]
  },
  {
   "cell_type": "code",
   "execution_count": 10,
   "metadata": {
    "execution": {
     "iopub.execute_input": "2021-02-09T06:20:49.786917Z",
     "iopub.status.busy": "2021-02-09T06:20:49.785909Z",
     "iopub.status.idle": "2021-02-09T06:20:50.083760Z",
     "shell.execute_reply": "2021-02-09T06:20:50.084267Z"
    },
    "papermill": {
     "duration": 0.317442,
     "end_time": "2021-02-09T06:20:50.084462",
     "exception": false,
     "start_time": "2021-02-09T06:20:49.767020",
     "status": "completed"
    },
    "tags": []
   },
   "outputs": [
    {
     "data": {
      "image/png": "[encoded data removed]",
      "text/plain": [
       "<Figure size 1152x504 with 2 Axes>"
      ]
     },
     "metadata": {
      "needs_background": "light"
     },
     "output_type": "display_data"
    }
   ],
   "source": [
    "fig, axes = plt.subplots(1, 2, figsize=(16, 7), sharey=True)\n",
    "fig.suptitle('Retweets received based on Sentiment of Tweet')\n",
    "\n",
    "# TextBlob\n",
    "a = pd.DataFrame(tweets.groupby(['sent_predTextBlob'])['retweets'].sum())\n",
    "sns.barplot(ax=axes[0], x=a.index, y=a['retweets'], palette= 'nipy_spectral')\n",
    "axes[0].set_title(\"TextBlob\")\n",
    "\n",
    "# VADER\n",
    "b = pd.DataFrame(tweets.groupby(['sent_pred'])['retweets'].sum())\n",
    "sns.barplot(ax=axes[1], x=b.index, y=b['retweets'], palette= 'nipy_spectral')\n",
    "axes[1].set_title(\"VADER\")\n",
    "fig.show()"
   ]
  },
  {
   "cell_type": "markdown",
   "metadata": {
    "papermill": {
     "duration": 0.015943,
     "end_time": "2021-02-09T06:20:50.118290",
     "exception": false,
     "start_time": "2021-02-09T06:20:50.102347",
     "status": "completed"
    },
    "tags": []
   },
   "source": [
    "## Conclusion"
   ]
  },
  {
   "cell_type": "markdown",
   "metadata": {
    "papermill": {
     "duration": 0.018549,
     "end_time": "2021-02-09T06:20:50.154830",
     "exception": false,
     "start_time": "2021-02-09T06:20:50.136281",
     "status": "completed"
    },
    "tags": []
   },
   "source": [
    "* TextBlob classifed 51.0% of Tweets to be Neutral sentiment, while, VADER classified 39.8% tweets to Neutral sentiment\n",
    "* TextBlob classified 39.8% Tweets as Positivie, while VADER classified 51.0% tweets as Postive sentiment\n",
    "* Both TextBlob & VADER classified 9.0% Tweets as Negative sentiment\n",
    "* Maximum Favorites are receieved by Neutral sentiment Tweets according to TextBlob, while according to VADER maximum Favorites are received by Positive sentiment Tweets\n",
    "* Both TextBlob & VADER reveal that Maximum Retweets are received by Neutral Sentiement Tweets\n"
   ]
  }
 ],
 "metadata": {
  "kernelspec": {
   "display_name": "Python 3",
   "language": "python",
   "name": "python3"
  },
  "language_info": {
   "codemirror_mode": {
    "name": "ipython",
    "version": 3
   },
   "file_extension": ".py",
   "mimetype": "text/x-python",
   "name": "python",
   "nbconvert_exporter": "python",
   "pygments_lexer": "ipython3",
   "version": "3.7.9"
  },
  "papermill": {
   "default_parameters": {},
   "duration": 17.760971,
   "end_time": "2021-02-09T06:20:51.184375",
   "environment_variables": {},
   "exception": null,
   "input_path": "__notebook__.ipynb",
   "output_path": "__notebook__.ipynb",
   "parameters": {},
   "start_time": "2021-02-09T06:20:33.423404",
   "version": "2.2.2"
  }
 },
 "nbformat": 4,
 "nbformat_minor": 4
}
